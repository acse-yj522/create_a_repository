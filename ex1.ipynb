{
 "cells": [
  {
   "cell_type": "markdown",
   "source": [
    "**Exercise1:** Create a new jupyter notebook in your repository and run it. After this, run `git status`. What do you observe? Notice that as well as the notebook showing as an untracked file, some additional meta data files have been created - we don't want these to be tracked by git though so be careful not to add them! Be sure to only add the notebook itself to avoid cluttering the repository with unnecessary meta data files. If we know such meta data will often be created, but we don't want it tracked, can we get git to ignore it? Check out the [gitignore](https://git-scm.com/docs/gitignore) documentation to see if you can achieve this!"
   ],
   "metadata": {
    "collapsed": false
   }
  }
 ],
 "metadata": {
  "kernelspec": {
   "display_name": "Python 3",
   "language": "python",
   "name": "python3"
  },
  "language_info": {
   "codemirror_mode": {
    "name": "ipython",
    "version": 2
   },
   "file_extension": ".py",
   "mimetype": "text/x-python",
   "name": "python",
   "nbconvert_exporter": "python",
   "pygments_lexer": "ipython2",
   "version": "2.7.6"
  }
 },
 "nbformat": 4,
 "nbformat_minor": 0
}
