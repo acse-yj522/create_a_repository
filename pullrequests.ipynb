{
 "cells": [
  {
   "cell_type": "markdown",
   "source": [
    "#### Creating and merging pull requests\n",
    "\n",
    "Creating and merging pull requests are another important aspect of managing `GitHub` repositories. <font color=red>If we wish to merge the changes of a particular branch into the `main` branch it's good practice to open a pull request to do this.\n",
    "\n",
    "There are many ways to do this, but here's one. If you click on the `branches` tab (shown in the figure above) you'll see something along the lines of:\n",
    "\n",
    "<img src=\"figures/gh5.png\">\n",
    "\n",
    "Next to the branch you wish to merge, you can click the `Create pull request` button and follow the instructions. In the `Pull requests` (PR) tab of the main repo, you'll then see the pull request appear. This view has many useful tools, where developers can see and comment on the changes to the code base etc. Providing all is 'ok' with the PR, when opening the PR you'll see the `Merge pull request` button as green:\n",
    "\n",
    "<img src=\"figures/gh6.png\">\n",
    "\n",
    "**Important:** Just because the button is green it doesn't mean the PR is ready to be merged (it just means GH knows how to merge it without any conflicts emerging). The changes introduced by a PR should be carefully checked by users to ensure everything is as they wish.\n",
    "\n",
    "After clicking the `Merge pull request` button the changes will then be live in the `Main` branch. After this, remember to update your main locally by checking out the main branch and running a `git pull`!"
   ],
   "metadata": {
    "collapsed": false
   }
  }
 ],
 "metadata": {
  "kernelspec": {
   "display_name": "Python 3",
   "language": "python",
   "name": "python3"
  },
  "language_info": {
   "codemirror_mode": {
    "name": "ipython",
    "version": 2
   },
   "file_extension": ".py",
   "mimetype": "text/x-python",
   "name": "python",
   "nbconvert_exporter": "python",
   "pygments_lexer": "ipython2",
   "version": "2.7.6"
  }
 },
 "nbformat": 4,
 "nbformat_minor": 0
}
